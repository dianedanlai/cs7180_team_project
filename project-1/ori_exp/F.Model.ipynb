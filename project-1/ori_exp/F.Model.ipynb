{
 "cells": [
  {
   "cell_type": "code",
   "execution_count": 3,
   "metadata": {},
   "outputs": [
    {
     "name": "stdout",
     "output_type": "stream",
     "text": [
      "start\n",
      "knn\n",
      "lg\n",
      "rf\n"
     ]
    },
    {
     "data": {
      "text/plain": [
       "['random_forest.joblib']"
      ]
     },
     "execution_count": 3,
     "metadata": {},
     "output_type": "execute_result"
    }
   ],
   "source": [
    "import pandas as pd\n",
    "from sklearn.externals import joblib\n",
    "from sklearn.preprocessing import LabelEncoder\n",
    "import numpy as np\n",
    "from sklearn.externals import joblib\n",
    "from sklearn.neighbors import KNeighborsClassifier\n",
    "from sklearn.linear_model import LogisticRegression\n",
    "from sklearn.ensemble import RandomForestClassifier\n",
    "\n",
    "print (\"start\")\n",
    "\n",
    "x = np.load(\"data.npy\")\n",
    "y = np.load(\"label.npy\")\n",
    "\n",
    "knn = KNeighborsClassifier(n_neighbors = 3)\n",
    "knn.fit(x, y) \n",
    "\n",
    "print (\"knn\")\n",
    "joblib.dump(knn, 'knn.joblib') \n",
    "\n",
    "logisticRegression = LogisticRegression(solver='lbfgs', C = 10, class_weight='balanced')\n",
    "logisticRegression.fit(x, y) \n",
    "\n",
    "print (\"lg\")\n",
    "joblib.dump(logisticRegression, 'logistic_regression.joblib') \n",
    "\n",
    "randomForest = RandomForestClassifier(n_estimators=7, max_depth=4, random_state=0)\n",
    "randomForest.fit(x, y) \n",
    "\n",
    "print (\"rf\")\n",
    "joblib.dump(randomForest, 'random_forest.joblib') \n"
   ]
  },
  {
   "cell_type": "code",
   "execution_count": null,
   "metadata": {},
   "outputs": [],
   "source": []
  },
  {
   "cell_type": "code",
   "execution_count": null,
   "metadata": {},
   "outputs": [],
   "source": []
  }
 ],
 "metadata": {
  "kernelspec": {
   "display_name": "Python 3",
   "language": "python",
   "name": "python3"
  }
 },
 "nbformat": 4,
 "nbformat_minor": 2
}
