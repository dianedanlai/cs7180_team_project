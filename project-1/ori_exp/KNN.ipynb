{
 "cells": [
  {
   "cell_type": "code",
   "execution_count": 8,
   "metadata": {},
   "outputs": [
    {
     "data": {
      "text/plain": [
       "'\\ndf = pd.read_csv(\"./us_perm_visas_to_classification.csv\", low_memory=False)\\nX = df.loc[:, df.columns != \\'case_status\\']\\nx = X.values\\nY = df.case_status\\ny = Y.values\\n\\nnp.save(\"data.npy\", x)\\nnp.save(\"label.npy\", y)\\n\\nprint (\"Data Done.\")\\n'"
      ]
     },
     "execution_count": 8,
     "metadata": {},
     "output_type": "execute_result"
    }
   ],
   "source": [
    "import pandas as pd\n",
    "from sklearn.externals import joblib\n",
    "from sklearn.preprocessing import LabelEncoder\n",
    "import numpy as np\n",
    "\n",
    "df = pd.read_csv(\"./us_perm_visas_to_classification.csv\", low_memory=False)\n",
    "X = df.loc[:, df.columns != 'case_status']\n",
    "x = X.values\n",
    "Y = df.case_status\n",
    "y = Y.values\n",
    "\n",
    "np.save(\"data.npy\", x)\n",
    "np.save(\"label.npy\", y)\n"
   ]
  },
  {
   "cell_type": "code",
   "execution_count": 9,
   "metadata": {},
   "outputs": [
    {
     "name": "stdout",
     "output_type": "stream",
     "text": [
      "(356168, 8) (356168,)\n"
     ]
    }
   ],
   "source": [
    "x = np.load(\"data.npy\")\n",
    "y = np.load(\"label.npy\")\n",
    "print (x.shape, y.shape)"
   ]
  },
  {
   "cell_type": "code",
   "execution_count": 10,
   "metadata": {},
   "outputs": [
    {
     "name": "stdout",
     "output_type": "stream",
     "text": [
      "Start\n",
      "0\n",
      "Train\n",
      "[[ 17099      0]\n",
      " [     0 220346]]\n",
      "Test\n",
      "[[     0   8550]\n",
      " [     0 110173]]\n",
      "1\n",
      "Train\n",
      "[[ 17099      0]\n",
      " [     0 220346]]\n",
      "Test\n",
      "[[ 3928  4622]\n",
      " [95882 14291]]\n",
      "2\n",
      "Train\n",
      "[[ 17100      0]\n",
      " [     0 220346]]\n",
      "Test\n",
      "[[     0   8549]\n",
      " [     0 110173]]\n"
     ]
    }
   ],
   "source": [
    "from sklearn.model_selection import KFold\n",
    "from sklearn.metrics import confusion_matrix\n",
    "from sklearn.neighbors import KNeighborsClassifier\n",
    "from sklearn.linear_model import LogisticRegression\n",
    "from sklearn.model_selection import StratifiedKFold\n",
    "\n",
    "print (\"Start\")\n",
    "\n",
    "kf = StratifiedKFold(n_splits=3, random_state=None, shuffle=False)\n",
    "\n",
    "idx = 0\n",
    "for train_index, test_index in kf.split(x, y):\n",
    "    print (idx)\n",
    "    train = x[train_index, :]\n",
    "    trainLabel = y[train_index]\n",
    "    test = x[test_index, :]\n",
    "    testLabel = y[test_index]\n",
    "    \n",
    "    knn = KNeighborsClassifier(n_neighbors = 1)\n",
    "    knn.fit(train, trainLabel) \n",
    "    preTrainLabel = knn.predict(train)\n",
    "    \n",
    "    print (\"Train\")\n",
    "    print (confusion_matrix(trainLabel, preTrainLabel))\n",
    "    \n",
    "    preTestLabel = knn.predict(test)\n",
    "    \n",
    "    print (\"Test\")\n",
    "    print (confusion_matrix(testLabel, preTestLabel))\n",
    "    \n",
    "    #testProb = knn.predict_proba(test)\n",
    "    #print (testProb.shape)\n",
    "    #print (testProb[0, :], preTestLabel[0])\n",
    "    \n",
    "    idx += 1\n"
   ]
  },
  {
   "cell_type": "code",
   "execution_count": 11,
   "metadata": {},
   "outputs": [
    {
     "name": "stdout",
     "output_type": "stream",
     "text": [
      "Start\n",
      "0\n",
      "Train\n",
      "[[  9709   7390]\n",
      " [  1186 219160]]\n",
      "Test\n",
      "[[     0   8550]\n",
      " [     0 110173]]\n",
      "1\n",
      "Train\n",
      "[[ 11660   5439]\n",
      " [   970 219376]]\n",
      "Test\n",
      "[[  884  7666]\n",
      " [81767 28406]]\n",
      "2\n",
      "Train\n",
      "[[ 13242   3858]\n",
      " [   952 219394]]\n",
      "Test\n",
      "[[     0   8549]\n",
      " [     0 110173]]\n"
     ]
    }
   ],
   "source": [
    "from sklearn.model_selection import KFold\n",
    "from sklearn.metrics import confusion_matrix\n",
    "from sklearn.neighbors import KNeighborsClassifier\n",
    "from sklearn.linear_model import LogisticRegression\n",
    "from sklearn.model_selection import StratifiedKFold\n",
    "\n",
    "print (\"Start\")\n",
    "\n",
    "kf = StratifiedKFold(n_splits=3, random_state=None, shuffle=False)\n",
    "\n",
    "idx = 0\n",
    "for train_index, test_index in kf.split(x, y):\n",
    "    print (idx)\n",
    "    train = x[train_index, :]\n",
    "    trainLabel = y[train_index]\n",
    "    test = x[test_index, :]\n",
    "    testLabel = y[test_index]\n",
    "    \n",
    "    knn = KNeighborsClassifier(n_neighbors = 3)\n",
    "    knn.fit(train, trainLabel) \n",
    "    preTrainLabel = knn.predict(train)\n",
    "    \n",
    "    print (\"Train\")\n",
    "    print (confusion_matrix(trainLabel, preTrainLabel))\n",
    "    \n",
    "    preTestLabel = knn.predict(test)\n",
    "    \n",
    "    print (\"Test\")\n",
    "    print (confusion_matrix(testLabel, preTestLabel))\n",
    "    \n",
    "    #testProb = knn.predict_proba(test)\n",
    "    #print (testProb.shape)\n",
    "    #print (testProb[0, :], preTestLabel[0])\n",
    "    \n",
    "    idx += 1\n"
   ]
  },
  {
   "cell_type": "code",
   "execution_count": 12,
   "metadata": {},
   "outputs": [
    {
     "name": "stdout",
     "output_type": "stream",
     "text": [
      "Start\n",
      "0\n",
      "Train\n",
      "[[  8251   8848]\n",
      " [  1093 219253]]\n",
      "Test\n",
      "[[     0   8550]\n",
      " [     0 110173]]\n",
      "1\n",
      "Train\n",
      "[[ 10458   6641]\n",
      " [   854 219492]]\n",
      "Test\n",
      "[[  882  7668]\n",
      " [81507 28666]]\n",
      "2\n",
      "Train\n",
      "[[ 12411   4689]\n",
      " [   905 219441]]\n",
      "Test\n",
      "[[     0   8549]\n",
      " [     0 110173]]\n"
     ]
    }
   ],
   "source": [
    "from sklearn.model_selection import KFold\n",
    "from sklearn.metrics import confusion_matrix\n",
    "from sklearn.neighbors import KNeighborsClassifier\n",
    "from sklearn.linear_model import LogisticRegression\n",
    "from sklearn.model_selection import StratifiedKFold\n",
    "\n",
    "print (\"Start\")\n",
    "\n",
    "kf = StratifiedKFold(n_splits=3, random_state=None, shuffle=False)\n",
    "\n",
    "idx = 0\n",
    "for train_index, test_index in kf.split(x, y):\n",
    "    print (idx)\n",
    "    train = x[train_index, :]\n",
    "    trainLabel = y[train_index]\n",
    "    test = x[test_index, :]\n",
    "    testLabel = y[test_index]\n",
    "    \n",
    "    knn = KNeighborsClassifier(n_neighbors = 5)\n",
    "    knn.fit(train, trainLabel) \n",
    "    preTrainLabel = knn.predict(train)\n",
    "    \n",
    "    print (\"Train\")\n",
    "    print (confusion_matrix(trainLabel, preTrainLabel))\n",
    "    \n",
    "    preTestLabel = knn.predict(test)\n",
    "    \n",
    "    print (\"Test\")\n",
    "    print (confusion_matrix(testLabel, preTestLabel))\n",
    "    \n",
    "    #testProb = knn.predict_proba(test)\n",
    "    #print (testProb.shape)\n",
    "    #print (testProb[0, :], preTestLabel[0])\n",
    "    \n",
    "    idx += 1\n"
   ]
  },
  {
   "cell_type": "code",
   "execution_count": 13,
   "metadata": {},
   "outputs": [
    {
     "name": "stdout",
     "output_type": "stream",
     "text": [
      "Start\n",
      "0\n",
      "Train\n",
      "[[  7680   9419]\n",
      " [   994 219352]]\n",
      "Test\n",
      "[[     0   8550]\n",
      " [     0 110173]]\n",
      "1\n",
      "Train\n",
      "[[  9902   7197]\n",
      " [   723 219623]]\n",
      "Test\n",
      "[[  877  7673]\n",
      " [81347 28826]]\n",
      "2\n",
      "Train\n",
      "[[ 12070   5030]\n",
      " [   858 219488]]\n",
      "Test\n",
      "[[     0   8549]\n",
      " [     0 110173]]\n"
     ]
    }
   ],
   "source": [
    "from sklearn.model_selection import KFold\n",
    "from sklearn.metrics import confusion_matrix\n",
    "from sklearn.neighbors import KNeighborsClassifier\n",
    "from sklearn.linear_model import LogisticRegression\n",
    "from sklearn.model_selection import StratifiedKFold\n",
    "\n",
    "print (\"Start\")\n",
    "\n",
    "kf = StratifiedKFold(n_splits=3, random_state=None, shuffle=False)\n",
    "\n",
    "idx = 0\n",
    "for train_index, test_index in kf.split(x, y):\n",
    "    print (idx)\n",
    "    train = x[train_index, :]\n",
    "    trainLabel = y[train_index]\n",
    "    test = x[test_index, :]\n",
    "    testLabel = y[test_index]\n",
    "    \n",
    "    knn = KNeighborsClassifier(n_neighbors = 7)\n",
    "    knn.fit(train, trainLabel) \n",
    "    preTrainLabel = knn.predict(train)\n",
    "    \n",
    "    print (\"Train\")\n",
    "    print (confusion_matrix(trainLabel, preTrainLabel))\n",
    "    \n",
    "    preTestLabel = knn.predict(test)\n",
    "    \n",
    "    print (\"Test\")\n",
    "    print (confusion_matrix(testLabel, preTestLabel))\n",
    "    \n",
    "    #testProb = knn.predict_proba(test)\n",
    "    #print (testProb.shape)\n",
    "    #print (testProb[0, :], preTestLabel[0])\n",
    "    \n",
    "    idx += 1\n"
   ]
  },
  {
   "cell_type": "code",
   "execution_count": null,
   "metadata": {},
   "outputs": [],
   "source": []
  }
 ],
 "metadata": {
  "kernelspec": {
   "display_name": "Python 3",
   "language": "python",
   "name": "python3"
  },
  "language_info": {
   "codemirror_mode": {
    "name": "ipython",
    "version": 3
   },
   "file_extension": ".py",
   "mimetype": "text/x-python",
   "name": "python",
   "nbconvert_exporter": "python",
   "pygments_lexer": "ipython3",
   "version": "3.6.4"
  }
 },
 "nbformat": 4,
 "nbformat_minor": 2
}
